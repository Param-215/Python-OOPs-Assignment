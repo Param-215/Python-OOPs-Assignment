{
  "nbformat": 4,
  "nbformat_minor": 0,
  "metadata": {
    "colab": {
      "provenance": []
    },
    "kernelspec": {
      "name": "python3",
      "display_name": "Python 3"
    },
    "language_info": {
      "name": "python"
    }
  },
  "cells": [
    {
      "cell_type": "markdown",
      "source": [
        "1. What is Object-Oriented Programming (OOP)?\n",
        "A programming paradigm based on objects that contain data (attributes) and methods.\n",
        "\n",
        "2. What is a class in OOP?\n",
        "A blueprint for creating objects; it defines attributes and methods.\n",
        "\n",
        "3. What is an object in OOP?\n",
        "An instance of a class containing real data.\n",
        "\n",
        "4. Difference between abstraction and encapsulation?\n",
        "\n",
        "Abstraction: Hides implementation, shows only essential features.\n",
        "Encapsulation: Bundles data and methods, restricting direct access.\n",
        "\n",
        "5. What are dunder methods in Python?\n",
        "Special methods with double underscores (e.g., __init__, __str__).\n",
        "\n",
        "6. Explain inheritance in OOP.\n",
        "A class can inherit attributes and methods from another class.\n",
        "\n",
        "7. What is polymorphism in OOP?\n",
        "Ability of the same method name to behave differently based on the object.\n",
        "\n",
        "8. How is encapsulation achieved in Python?\n",
        "Using private/protected variables (_var, __var) and getter/setter methods.\n",
        "\n",
        "9. What is a constructor in Python?\n",
        "The __init__ method that initializes object attributes.\n",
        "\n",
        "10. What are class and static methods in Python?\n",
        "\n",
        "Class method: Works with class (@classmethod).\n",
        "Static method: Utility method not tied to class or object (@staticmethod).\n",
        "\n",
        "11. What is method overloading in Python?\n",
        "Not directly supported, but can be mimicked using default arguments.\n",
        "\n",
        "12. What is method overriding in OOP?\n",
        "Redefining a parent class method in a child class.\n",
        "\n",
        "13. What is a property decorator in Python?\n",
        "@property allows methods to be accessed like attributes.\n",
        "\n",
        "14. Why is polymorphism important in OOP?\n",
        "It increases flexibility and reusability of code.\n",
        "\n",
        "15. What is an abstract class in Python?\n",
        "A class with abstract methods (using abc module) that cannot be instantiated.\n",
        "\n",
        "16. Advantages of OOP?\n",
        "Modularity, reusability, abstraction, encapsulation, inheritance, polymorphism.\n",
        "\n",
        "17. Difference between class variable and instance variable?\n",
        "Class variable: Shared across all objects.\n",
        "Instance variable: Unique to each object.\n",
        "\n",
        "18. What is multiple inheritance in Python?\n",
        "A class can inherit from more than one parent class.\n",
        "\n",
        "19. Purpose of __str__ and __repr__ methods?\n",
        "__str__: User-friendly string representation.\n",
        "__repr__: Official/debug string representation.\n",
        "\n",
        "20. Significance of super() function in Python?\n",
        "Used to call parent class methods in a child class.\n",
        "\n",
        "21. Significance of the __del__ method?\n",
        "Destructor, called when an object is deleted.\n",
        "\n",
        "22. Difference between @staticmethod and @classmethod?\n",
        "@staticmethod: No access to class/object.\n",
        "@classmethod: Has access to class (cls).\n",
        "\n",
        "23. How does polymorphism work in Python with inheritance?\n",
        "Child class overrides parent methods, and the correct method is chosen at runtime.\n",
        "\n",
        "24. What is method chaining in Python OOP?\n",
        "Calling multiple methods on the same object in one line (obj.method1().method2()).\n",
        "\n",
        "25. Purpose of the __call__ method in Python?\n",
        "Makes an object callable like a function."
      ],
      "metadata": {
        "id": "1JHqRlg_bl8_"
      }
    },
    {
      "cell_type": "code",
      "execution_count": 1,
      "metadata": {
        "colab": {
          "base_uri": "https://localhost:8080/"
        },
        "id": "8rZyJoOnbkmc",
        "outputId": "c376c174-ef79-430a-c712-b04a05f14a80"
      },
      "outputs": [
        {
          "output_type": "stream",
          "name": "stdout",
          "text": [
            "\n",
            "1. Animal & Dog\n",
            "This is an animal sound.\n",
            "Bark!\n"
          ]
        }
      ],
      "source": [
        "from abc import ABC, abstractmethod\n",
        "# 1. Animal -> Dog (Override speak)\n",
        "class Animal:\n",
        "    def speak(self):\n",
        "        print(\"This is an animal sound.\")\n",
        "\n",
        "class Dog(Animal):\n",
        "    def speak(self):\n",
        "        print(\"Bark!\")\n",
        "\n",
        "print(\"\\n1. Animal & Dog\")\n",
        "a = Animal(); a.speak()\n",
        "d = Dog(); d.speak()"
      ]
    },
    {
      "cell_type": "code",
      "source": [
        "# 2. Abstract class Shape\n",
        "class Shape(ABC):\n",
        "    @abstractmethod\n",
        "    def area(self):\n",
        "        pass\n",
        "\n",
        "class Circle(Shape):\n",
        "    def __init__(self, r):\n",
        "        self.r = r\n",
        "    def area(self):\n",
        "        return 3.14 * self.r * self.r\n",
        "\n",
        "class Rectangle(Shape):\n",
        "    def __init__(self, l, w):\n",
        "        self.l = l\n",
        "        self.w = w\n",
        "    def area(self):\n",
        "        return self.l * self.w\n",
        "\n",
        "print(\"\\n2. Shape areas\")\n",
        "print(\"Circle area:\", Circle(5).area())\n",
        "print(\"Rectangle area:\", Rectangle(4, 6).area())"
      ],
      "metadata": {
        "colab": {
          "base_uri": "https://localhost:8080/"
        },
        "id": "DriZ2jppc1l5",
        "outputId": "dc39f96e-bdf9-4fd0-aabf-8a30d2cd2a46"
      },
      "execution_count": 2,
      "outputs": [
        {
          "output_type": "stream",
          "name": "stdout",
          "text": [
            "\n",
            "2. Shape areas\n",
            "Circle area: 78.5\n",
            "Rectangle area: 24\n"
          ]
        }
      ]
    },
    {
      "cell_type": "code",
      "source": [
        "# 3. Multi-level inheritance\n",
        "class Vehicle:\n",
        "    def __init__(self, type):\n",
        "        self.type = type\n",
        "\n",
        "class Car(Vehicle):\n",
        "    def __init__(self, type, brand):\n",
        "        super().__init__(type)\n",
        "        self.brand = brand\n",
        "\n",
        "class ElectricCar(Car):\n",
        "    def __init__(self, type, brand, battery):\n",
        "        super().__init__(type, brand)\n",
        "        self.battery = battery\n",
        "        print(f\"ElectricCar created: {self.type}, {self.brand}, {self.battery}\")\n",
        "\n",
        "print(\"\\n3. ElectricCar\")\n",
        "ec = ElectricCar(\"4-wheeler\", \"Tesla\", \"100 kWh\")"
      ],
      "metadata": {
        "colab": {
          "base_uri": "https://localhost:8080/"
        },
        "id": "eEgYtQ3lc-dW",
        "outputId": "52339571-8f58-4ed3-a9df-621dd62fdcd7"
      },
      "execution_count": 3,
      "outputs": [
        {
          "output_type": "stream",
          "name": "stdout",
          "text": [
            "\n",
            "3. ElectricCar\n",
            "ElectricCar created: 4-wheeler, Tesla, 100 kWh\n"
          ]
        }
      ]
    },
    {
      "cell_type": "code",
      "source": [
        "# 4. Polymorphism Bird\n",
        "class Bird:\n",
        "    def fly(self):\n",
        "        print(\"Some birds can fly.\")\n",
        "\n",
        "class Sparrow(Bird):\n",
        "    def fly(self):\n",
        "        print(\"Sparrow flies high.\")\n",
        "\n",
        "class Penguin(Bird):\n",
        "    def fly(self):\n",
        "        print(\"Penguins cannot fly.\")\n",
        "\n",
        "print(\"\\n4. Birds\")\n",
        "Sparrow().fly()\n",
        "Penguin().fly()"
      ],
      "metadata": {
        "colab": {
          "base_uri": "https://localhost:8080/"
        },
        "id": "sXLGGHf0dB-S",
        "outputId": "c1f9ea97-3c3a-4579-8dea-a5351debe121"
      },
      "execution_count": 4,
      "outputs": [
        {
          "output_type": "stream",
          "name": "stdout",
          "text": [
            "\n",
            "4. Birds\n",
            "Sparrow flies high.\n",
            "Penguins cannot fly.\n"
          ]
        }
      ]
    },
    {
      "cell_type": "code",
      "source": [
        "# 5. Encapsulation\n",
        "class BankAccount:\n",
        "    def __init__(self, balance=0):\n",
        "        self.__balance = balance\n",
        "    def deposit(self, amount):\n",
        "        self.__balance += amount\n",
        "        print(f\"Deposited {amount}, New Balance: {self.__balance}\")\n",
        "    def withdraw(self, amount):\n",
        "        if amount <= self.__balance:\n",
        "            self.__balance -= amount\n",
        "            print(f\"Withdrew {amount}, New Balance: {self.__balance}\")\n",
        "        else:\n",
        "            print(\"Insufficient balance\")\n",
        "    def check_balance(self):\n",
        "        print(\"Balance:\", self.__balance)\n",
        "\n",
        "print(\"\\n5. BankAccount\")\n",
        "acc = BankAccount(1000)\n",
        "acc.deposit(500)\n",
        "acc.withdraw(200)\n",
        "acc.check_balance()"
      ],
      "metadata": {
        "colab": {
          "base_uri": "https://localhost:8080/"
        },
        "id": "ZrCEZa8-dFml",
        "outputId": "478eabba-ff1e-4660-edb1-e5d07083ea65"
      },
      "execution_count": 5,
      "outputs": [
        {
          "output_type": "stream",
          "name": "stdout",
          "text": [
            "\n",
            "5. BankAccount\n",
            "Deposited 500, New Balance: 1500\n",
            "Withdrew 200, New Balance: 1300\n",
            "Balance: 1300\n"
          ]
        }
      ]
    },
    {
      "cell_type": "code",
      "source": [
        "# 6. Runtime Polymorphism\n",
        "class Instrument:\n",
        "    def play(self):\n",
        "        print(\"Playing an instrument\")\n",
        "\n",
        "class Guitar(Instrument):\n",
        "    def play(self):\n",
        "        print(\"Strumming guitar\")\n",
        "\n",
        "class Piano(Instrument):\n",
        "    def play(self):\n",
        "        print(\"Playing piano\")\n",
        "\n",
        "print(\"\\n6. Instruments\")\n",
        "Guitar().play()\n",
        "Piano().play()"
      ],
      "metadata": {
        "colab": {
          "base_uri": "https://localhost:8080/"
        },
        "id": "UUKItkRBdIEa",
        "outputId": "2c0d9233-14a6-4e32-e9a3-fe9095e9c188"
      },
      "execution_count": 6,
      "outputs": [
        {
          "output_type": "stream",
          "name": "stdout",
          "text": [
            "\n",
            "6. Instruments\n",
            "Strumming guitar\n",
            "Playing piano\n"
          ]
        }
      ]
    },
    {
      "cell_type": "code",
      "source": [
        "# 7. Class & Static Methods\n",
        "class MathOperations:\n",
        "    @classmethod\n",
        "    def add_numbers(cls, a, b):\n",
        "        print(\"Addition:\", a + b)\n",
        "        return a + b\n",
        "    @staticmethod\n",
        "    def subtract_numbers(a, b):\n",
        "        print(\"Subtraction:\", a - b)\n",
        "        return a - b\n",
        "\n",
        "print(\"\\n7. MathOperations\")\n",
        "MathOperations.add_numbers(5, 3)\n",
        "MathOperations.subtract_numbers(10, 4)"
      ],
      "metadata": {
        "colab": {
          "base_uri": "https://localhost:8080/"
        },
        "id": "EG130rX1dLUL",
        "outputId": "6a6fff14-8f87-4018-90d9-80ecaca3190c"
      },
      "execution_count": 7,
      "outputs": [
        {
          "output_type": "stream",
          "name": "stdout",
          "text": [
            "\n",
            "7. MathOperations\n",
            "Addition: 8\n",
            "Subtraction: 6\n"
          ]
        },
        {
          "output_type": "execute_result",
          "data": {
            "text/plain": [
              "6"
            ]
          },
          "metadata": {},
          "execution_count": 7
        }
      ]
    },
    {
      "cell_type": "code",
      "source": [
        "# 8. Person count\n",
        "class Person:\n",
        "    count = 0\n",
        "    def __init__(self, name):\n",
        "        self.name = name\n",
        "        Person.count += 1\n",
        "        print(f\"Person created: {self.name}, Total: {Person.count}\")\n",
        "    @classmethod\n",
        "    def total_persons(cls):\n",
        "        return cls.count\n",
        "\n",
        "print(\"\\n8. Persons count\")\n",
        "p1 = Person(\"Param\")\n",
        "p2 = Person(\"Rahul\")"
      ],
      "metadata": {
        "colab": {
          "base_uri": "https://localhost:8080/"
        },
        "id": "PQbQoQlldNdq",
        "outputId": "91edc393-5185-4131-a115-0e2db0ab4b22"
      },
      "execution_count": 8,
      "outputs": [
        {
          "output_type": "stream",
          "name": "stdout",
          "text": [
            "\n",
            "8. Persons count\n",
            "Person created: Param, Total: 1\n",
            "Person created: Rahul, Total: 2\n"
          ]
        }
      ]
    },
    {
      "cell_type": "code",
      "source": [
        "# 9. Fraction\n",
        "class Fraction:\n",
        "    def __init__(self, num, den):\n",
        "        self.num = num\n",
        "        self.den = den\n",
        "    def __str__(self):\n",
        "        return f\"{self.num}/{self.den}\"\n",
        "\n",
        "print(\"\\n9. Fraction\")\n",
        "print(Fraction(3, 4))"
      ],
      "metadata": {
        "colab": {
          "base_uri": "https://localhost:8080/"
        },
        "id": "Wyja4Z8ldPWr",
        "outputId": "41d73e47-9bf7-465a-a4c6-c4e8603538da"
      },
      "execution_count": 9,
      "outputs": [
        {
          "output_type": "stream",
          "name": "stdout",
          "text": [
            "\n",
            "9. Fraction\n",
            "3/4\n"
          ]
        }
      ]
    },
    {
      "cell_type": "code",
      "source": [
        "# 10. Operator overloading\n",
        "class Vector:\n",
        "    def __init__(self, x, y):\n",
        "        self.x = x\n",
        "        self.y = y\n",
        "    def __add__(self, other):\n",
        "        return Vector(self.x + other.x, self.y + other.y)\n",
        "    def __str__(self):\n",
        "        return f\"({self.x}, {self.y})\"\n",
        "\n",
        "print(\"\\n10. Vectors\")\n",
        "print(Vector(2, 3) + Vector(4, 5))"
      ],
      "metadata": {
        "colab": {
          "base_uri": "https://localhost:8080/"
        },
        "id": "vGi6AmSedSRJ",
        "outputId": "8436586a-bfe2-4f52-a895-0d1256817cf1"
      },
      "execution_count": 10,
      "outputs": [
        {
          "output_type": "stream",
          "name": "stdout",
          "text": [
            "\n",
            "10. Vectors\n",
            "(6, 8)\n"
          ]
        }
      ]
    },
    {
      "cell_type": "code",
      "source": [
        "# 11. Person greet()\n",
        "class PersonGreet:\n",
        "    def __init__(self, name, age):\n",
        "        self.name = name\n",
        "        self.age = age\n",
        "    def greet(self):\n",
        "        print(f\"Hello, my name is {self.name} and I am {self.age} years old.\")\n",
        "\n",
        "print(\"\\n11. Greeting\")\n",
        "PersonGreet(\"Param\", 21).greet()"
      ],
      "metadata": {
        "colab": {
          "base_uri": "https://localhost:8080/"
        },
        "id": "GmPMj2yZdUMy",
        "outputId": "dd695cf2-9f16-4ef2-9979-b6a2d1351321"
      },
      "execution_count": 11,
      "outputs": [
        {
          "output_type": "stream",
          "name": "stdout",
          "text": [
            "\n",
            "11. Greeting\n",
            "Hello, my name is Param and I am 21 years old.\n"
          ]
        }
      ]
    },
    {
      "cell_type": "code",
      "source": [
        "# 12. Student average grade\n",
        "class Student:\n",
        "    def __init__(self, name, grades):\n",
        "        self.name = name\n",
        "        self.grades = grades\n",
        "    def average_grade(self):\n",
        "        avg = sum(self.grades) / len(self.grades)\n",
        "        print(f\"{self.name}'s Average Grade:\", avg)\n",
        "        return avg\n",
        "\n",
        "print(\"\\n12. Student\")\n",
        "Student(\"Param\", [85, 90, 78]).average_grade()"
      ],
      "metadata": {
        "colab": {
          "base_uri": "https://localhost:8080/"
        },
        "id": "efp79Nc5dWKe",
        "outputId": "1fc439ab-8ef6-408c-8164-7dc60f8e09bf"
      },
      "execution_count": 12,
      "outputs": [
        {
          "output_type": "stream",
          "name": "stdout",
          "text": [
            "\n",
            "12. Student\n",
            "Param's Average Grade: 84.33333333333333\n"
          ]
        },
        {
          "output_type": "execute_result",
          "data": {
            "text/plain": [
              "84.33333333333333"
            ]
          },
          "metadata": {},
          "execution_count": 12
        }
      ]
    },
    {
      "cell_type": "code",
      "source": [
        "# 13. Rectangle area\n",
        "class RectangleShape:\n",
        "    def set_dimensions(self, l, w):\n",
        "        self.l = l\n",
        "        self.w = w\n",
        "    def area(self):\n",
        "        print(\"Rectangle area:\", self.l * self.w)\n",
        "        return self.l * self.w\n",
        "\n",
        "print(\"\\n13. Rectangle area\")\n",
        "r = RectangleShape()\n",
        "r.set_dimensions(5, 4)\n",
        "r.area()"
      ],
      "metadata": {
        "colab": {
          "base_uri": "https://localhost:8080/"
        },
        "id": "8-48p-JjdYQ6",
        "outputId": "1d37bbec-2b7a-40a6-94ff-41135a44ad0f"
      },
      "execution_count": 13,
      "outputs": [
        {
          "output_type": "stream",
          "name": "stdout",
          "text": [
            "\n",
            "13. Rectangle area\n",
            "Rectangle area: 20\n"
          ]
        },
        {
          "output_type": "execute_result",
          "data": {
            "text/plain": [
              "20"
            ]
          },
          "metadata": {},
          "execution_count": 13
        }
      ]
    },
    {
      "cell_type": "code",
      "source": [
        "# 14. Employee & Manager\n",
        "class Employee:\n",
        "    def calculate_salary(self, hours, rate):\n",
        "        return hours * rate\n",
        "\n",
        "class Manager(Employee):\n",
        "    def calculate_salary(self, hours, rate, bonus):\n",
        "        total = super().calculate_salary(hours, rate) + bonus\n",
        "        print(\"Manager Salary:\", total)\n",
        "        return total\n",
        "\n",
        "print(\"\\n14. Manager salary\")\n",
        "Manager().calculate_salary(40, 100, 5000)"
      ],
      "metadata": {
        "colab": {
          "base_uri": "https://localhost:8080/"
        },
        "id": "TdE0T738dafj",
        "outputId": "5acbf2fa-01e8-4708-9618-f4bec75c8791"
      },
      "execution_count": 14,
      "outputs": [
        {
          "output_type": "stream",
          "name": "stdout",
          "text": [
            "\n",
            "14. Manager salary\n",
            "Manager Salary: 9000\n"
          ]
        },
        {
          "output_type": "execute_result",
          "data": {
            "text/plain": [
              "9000"
            ]
          },
          "metadata": {},
          "execution_count": 14
        }
      ]
    },
    {
      "cell_type": "code",
      "source": [
        "# 15. Product\n",
        "class Product:\n",
        "    def __init__(self, name, price, qty):\n",
        "        self.name = name\n",
        "        self.price = price\n",
        "        self.qty = qty\n",
        "    def total_price(self):\n",
        "        total = self.price * self.qty\n",
        "        print(f\"Total price of {self.name}: {total}\")\n",
        "        return total\n",
        "\n",
        "print(\"\\n15. Product total price\")\n",
        "Product(\"Laptop\", 50000, 2).total_price()"
      ],
      "metadata": {
        "colab": {
          "base_uri": "https://localhost:8080/"
        },
        "id": "lAhLn5VIddeJ",
        "outputId": "f0efa5be-3623-4eca-ccc7-81225fc9ffc8"
      },
      "execution_count": 15,
      "outputs": [
        {
          "output_type": "stream",
          "name": "stdout",
          "text": [
            "\n",
            "15. Product total price\n",
            "Total price of Laptop: 100000\n"
          ]
        },
        {
          "output_type": "execute_result",
          "data": {
            "text/plain": [
              "100000"
            ]
          },
          "metadata": {},
          "execution_count": 15
        }
      ]
    },
    {
      "cell_type": "code",
      "source": [
        "# 16. Abstract Animal -> Cow, Sheep\n",
        "class AnimalAbstract(ABC):\n",
        "    @abstractmethod\n",
        "    def sound(self):\n",
        "        pass\n",
        "\n",
        "class Cow(AnimalAbstract):\n",
        "    def sound(self):\n",
        "        return \"Moo\"\n",
        "\n",
        "class Sheep(AnimalAbstract):\n",
        "    def sound(self):\n",
        "        return \"Baa\"\n",
        "\n",
        "print(\"\\n16. Cow & Sheep\")\n",
        "print(\"Cow:\", Cow().sound())\n",
        "print(\"Sheep:\", Sheep().sound())"
      ],
      "metadata": {
        "colab": {
          "base_uri": "https://localhost:8080/"
        },
        "id": "pnQ-Lzy5dfkp",
        "outputId": "9a0605e8-d554-44bd-e299-32bcfd055902"
      },
      "execution_count": 16,
      "outputs": [
        {
          "output_type": "stream",
          "name": "stdout",
          "text": [
            "\n",
            "16. Cow & Sheep\n",
            "Cow: Moo\n",
            "Sheep: Baa\n"
          ]
        }
      ]
    },
    {
      "cell_type": "code",
      "source": [
        "# 17. Book\n",
        "class Book:\n",
        "    def __init__(self, title, author, year):\n",
        "        self.title = title\n",
        "        self.author = author\n",
        "        self.year = year\n",
        "    def get_book_info(self):\n",
        "        info = f\"{self.title} by {self.author}, {self.year}\"\n",
        "        print(\"Book Info:\", info)\n",
        "        return info\n",
        "\n",
        "print(\"\\n17. Book info\")\n",
        "Book(\"Python Basics\", \"Param\", 2025).get_book_info()"
      ],
      "metadata": {
        "colab": {
          "base_uri": "https://localhost:8080/",
          "height": 87
        },
        "id": "53dgk0pGdh1C",
        "outputId": "386c4fae-6b97-441d-b25b-6e06ef92b50c"
      },
      "execution_count": 17,
      "outputs": [
        {
          "output_type": "stream",
          "name": "stdout",
          "text": [
            "\n",
            "17. Book info\n",
            "Book Info: Python Basics by Param, 2025\n"
          ]
        },
        {
          "output_type": "execute_result",
          "data": {
            "text/plain": [
              "'Python Basics by Param, 2025'"
            ],
            "application/vnd.google.colaboratory.intrinsic+json": {
              "type": "string"
            }
          },
          "metadata": {},
          "execution_count": 17
        }
      ]
    },
    {
      "cell_type": "code",
      "source": [
        "#18. House -> Mansion\n",
        "class House:\n",
        "    def __init__(self, address, price):\n",
        "        self.address = address\n",
        "        self.price = price\n",
        "\n",
        "class Mansion(House):\n",
        "    def __init__(self, address, price, rooms):\n",
        "        super().__init__(address, price)\n",
        "        self.rooms = rooms\n",
        "        print(f\"Mansion created at {self.address}, Price: {self.price}, Rooms: {self.rooms}\")\n",
        "\n",
        "print(\"\\n18. Mansion\")\n",
        "Mansion(\"Mumbai\", 50000000, 20)"
      ],
      "metadata": {
        "colab": {
          "base_uri": "https://localhost:8080/"
        },
        "id": "EgFUsNKudkLb",
        "outputId": "328dad7b-926c-4189-d89b-6595a98c25eb"
      },
      "execution_count": 18,
      "outputs": [
        {
          "output_type": "stream",
          "name": "stdout",
          "text": [
            "\n",
            "18. Mansion\n",
            "Mansion created at Mumbai, Price: 50000000, Rooms: 20\n"
          ]
        },
        {
          "output_type": "execute_result",
          "data": {
            "text/plain": [
              "<__main__.Mansion at 0x7b463bfa0c80>"
            ]
          },
          "metadata": {},
          "execution_count": 18
        }
      ]
    }
  ]
}